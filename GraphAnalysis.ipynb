{
 "cells": [
  {
   "cell_type": "code",
   "execution_count": 1,
   "metadata": {},
   "outputs": [
    {
     "name": "stderr",
     "output_type": "stream",
     "text": [
      "/var/folders/nw/yrny75552dl0y5w78q4z6cdm0000gn/T/ipykernel_35604/1826812147.py:1: DeprecationWarning: \n",
      "Pyarrow will become a required dependency of pandas in the next major release of pandas (pandas 3.0),\n",
      "(to allow more performant data types, such as the Arrow string type, and better interoperability with other libraries)\n",
      "but was not found to be installed on your system.\n",
      "If this would cause problems for you,\n",
      "please provide us feedback at https://github.com/pandas-dev/pandas/issues/54466\n",
      "        \n",
      "  import pandas as pd\n"
     ]
    }
   ],
   "source": [
    "import pandas as pd\n",
    "import numpy as np\n",
    "import ast\n",
    "import networkx as nx\n",
    "import matplotlib"
   ]
  },
  {
   "cell_type": "code",
   "execution_count": 3,
   "metadata": {},
   "outputs": [],
   "source": [
    "csv = \"/Users/livdreyerjohansen/Desktop/CSS/final_papers_dataset.csv\"\n",
    "df = pd.read_csv(csv, usecols = [\"id\",\"author_ids\"])\n",
    "\n",
    "df['author_ids'] = df['author_ids'].apply(ast.literal_eval) # convert string to list"
   ]
  },
  {
   "cell_type": "markdown",
   "metadata": {},
   "source": [
    "### Create List of Collaborations between authors"
   ]
  },
  {
   "cell_type": "code",
   "execution_count": 5,
   "metadata": {},
   "outputs": [],
   "source": [
    "collabs = []\n",
    "for work_idx in range(len(df[\"id\"])):\n",
    "    work = df[\"id\"][work_idx]\n",
    "    collabs.extend([(a, b) for idx, a in enumerate(df[\"author_ids\"][work_idx]) for b in df[\"author_ids\"][work_idx][idx + 1:]])\n",
    "    if work_idx == 100:\n",
    "        break\n"
   ]
  },
  {
   "cell_type": "markdown",
   "metadata": {},
   "source": [
    "### Count the number of occurences of the Collaborations"
   ]
  },
  {
   "cell_type": "code",
   "execution_count": 6,
   "metadata": {},
   "outputs": [],
   "source": [
    "authors_collabs = []\n",
    "\n",
    "\n",
    "for authors in collabs:\n",
    "    count = 0\n",
    "    for j in range(len(collabs)):\n",
    "        if authors == collabs[j]:\n",
    "            count += 1\n",
    "    authors_collabs.append((authors[0],authors[1],count))\n"
   ]
  },
  {
   "cell_type": "code",
   "execution_count": 6,
   "metadata": {},
   "outputs": [],
   "source": [
    "# print(authors_collabs[0][2])\n",
    "# G = nx.Graph()\n",
    "# G.add_weighted_edges_from(authors_collabs)\n",
    "# nx.draw_networkx(G)\n"
   ]
  },
  {
   "cell_type": "markdown",
   "metadata": {},
   "source": [
    "### Get unique others in the collaborations"
   ]
  },
  {
   "cell_type": "code",
   "execution_count": 10,
   "metadata": {},
   "outputs": [
    {
     "data": {
      "text/plain": [
       "305"
      ]
     },
     "execution_count": 10,
     "metadata": {},
     "output_type": "execute_result"
    }
   ],
   "source": [
    "authors = []\n",
    "for i in range(len(collabs)):\n",
    "    if collabs[i][0] not in authors:\n",
    "        authors.append(collabs[i][0])\n"
   ]
  },
  {
   "cell_type": "markdown",
   "metadata": {},
   "source": [
    "### Collect data for the authors"
   ]
  },
  {
   "cell_type": "code",
   "execution_count": 55,
   "metadata": {},
   "outputs": [
    {
     "name": "stdout",
     "output_type": "stream",
     "text": [
      "2016-06-24\n"
     ]
    }
   ],
   "source": [
    "import requests\n",
    "from datetime import datetime\n",
    "# for i in range(1):\n",
    "BASE_URL = \"https://api.openalex.org/authors\"\n",
    "SEARCH = f\"/{authors[i]}\"\n",
    "SELECT = \"?select=id,display_name,works_api_url,works_count,last_known_institutions\"\n",
    "\n",
    "req = requests.get(BASE_URL + SEARCH + SELECT)\n",
    "\n",
    "result = req.json()\n",
    "\n",
    "req2 = requests.get(result[\"works_api_url\"])\n",
    "\n",
    "authors_work = req2.json()\n",
    "date = datetime.strptime(\"3000-01-01\", \"%Y-%m-%d\")\n",
    "# for j in range(len(authors_work['results'])):\n",
    "for j in range(len(authors_work['results'])):\n",
    "    field = authors_work['results'][j]['primary_topic']['field']['display_name']\n",
    "    if field == \"Sociology\" or \"Psychology\" or \"Economics\" or \"Political Science\":\n",
    "        date_string = authors_work['results'][j]['created_date']\n",
    "        if date > datetime.strptime(date_string, \"%Y-%m-%d\"):\n",
    "            date = datetime.strptime(date_string, \"%Y-%m-%d\")\n",
    "            \n",
    "print(date.date())\n",
    "            "
   ]
  }
 ],
 "metadata": {
  "kernelspec": {
   "display_name": "Python 3",
   "language": "python",
   "name": "python3"
  },
  "language_info": {
   "codemirror_mode": {
    "name": "ipython",
    "version": 3
   },
   "file_extension": ".py",
   "mimetype": "text/x-python",
   "name": "python",
   "nbconvert_exporter": "python",
   "pygments_lexer": "ipython3",
   "version": "3.12.1"
  },
  "orig_nbformat": 4,
  "vscode": {
   "interpreter": {
    "hash": "aee8b7b246df8f9039afb4144a1f6fd8d2ca17a180786b69acc140d282b71a49"
   }
  }
 },
 "nbformat": 4,
 "nbformat_minor": 2
}
