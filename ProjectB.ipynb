{
 "cells": [
  {
   "attachments": {},
   "cell_type": "markdown",
   "metadata": {},
   "source": [
    "## Title\n",
    "### Group 14 \n",
    "\n",
    "> Github repository: https://github.com/LivDreyer/CSS24.git\n",
    "\n",
    "> Shortlog of git commits:\n",
    "- x  LivDreyer\n",
    "- x  AIAndreas\n",
    "- x  FelixxAI\n",
    "\n",
    "\n",
    "> Contribution: The workload was distributed equally between all members of the group. "
   ]
  },
  {
   "attachments": {},
   "cell_type": "markdown",
   "metadata": {},
   "source": [
    "![Crowd](crowd.png)"
   ]
  },
  {
   "cell_type": "code",
   "execution_count": null,
   "metadata": {},
   "outputs": [],
   "source": [
    "import numpy as np\n",
    "import matplotlib.pyplot as plt\n",
    "import json\n",
    "import networkx as nx\n",
    "import netwulf as nu\n",
    "import json\n",
    "from networkx.readwrite import json_graph\n",
    "import random\n",
    "import pandas as pd\n",
    "import ast\n",
    "from collections import Counter\n",
    "from wordcloud import WordCloud\n",
    "import re"
   ]
  },
  {
   "attachments": {},
   "cell_type": "markdown",
   "metadata": {},
   "source": [
    "## Motivation"
   ]
  },
  {
   "attachments": {},
   "cell_type": "markdown",
   "metadata": {},
   "source": [
    "**Dataset** "
   ]
  },
  {
   "attachments": {},
   "cell_type": "markdown",
   "metadata": {},
   "source": [
    "- What is our dataset? \n",
    "- What is our motivation for choosing this data set? \n",
    "- What was your goal for the end user's experience? "
   ]
  },
  {
   "attachments": {},
   "cell_type": "markdown",
   "metadata": {},
   "source": [
    "This project aims to answer the research question: \"What is the relationship between artist collaboration patterns, popularity, and lyrical expression of genre themes?\". To answer this question, we decided to center our network analysis around the worlds largest music streaming service: Spotify. Given our project's focus on artist popularity, using a platform such as Spotify for insights is logical. With streaming services contributing to 84% of the music industry's revenue, and Spotify holding a dominant market share of 30.5%, it offers a comprehensive insight to artist popularity. \n",
    "\n",
    "For the textual analysis, Genius, among others, serve as an \"online music encyclopidia\". Although the textual analysis in this project could utilize a variety of song lyric API's, Genius offers the ability for artists and users to annotate lyrics, making it an interesting choice for other analyses in the future. \n",
    "\n",
    "This projects takes starting point in the Kaggle dataset \"US Top 10K Artists and Their Popular Songs\". The dataset, created by Spoorthi Uday Karakaraddi, was collected using the Spotify API and features several attributes of the top 10k artists in the US in 2023. It serves as the foundation for constructing the final dataset used for network analysis, which is then used for constructing the dataset for our textual analysis. \n",
    "\n",
    "\n",
    "https://en.wikipedia.org/wiki/Genius_(company)\n",
    "https://www.kaggle.com/datasets/spoorthiuk/us-top-10k-artists-and-their-popular-songs \n"
   ]
  },
  {
   "attachments": {},
   "cell_type": "markdown",
   "metadata": {},
   "source": []
  }
 ],
 "metadata": {
  "kernelspec": {
   "display_name": "Python 3",
   "language": "python",
   "name": "python3"
  },
  "language_info": {
   "name": "python",
   "version": "3.10.5"
  },
  "orig_nbformat": 4,
  "vscode": {
   "interpreter": {
    "hash": "aee8b7b246df8f9039afb4144a1f6fd8d2ca17a180786b69acc140d282b71a49"
   }
  }
 },
 "nbformat": 4,
 "nbformat_minor": 2
}
