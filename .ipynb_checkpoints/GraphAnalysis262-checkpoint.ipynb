{
 "cells": [
  {
   "cell_type": "code",
   "execution_count": 3,
   "metadata": {},
   "outputs": [],
   "source": [
    "import pandas as pd\n",
    "import numpy as np\n",
    "import ast\n",
    "import networkx as nx\n",
    "import matplotlib"
   ]
  },
  {
   "cell_type": "code",
   "execution_count": 4,
   "metadata": {},
   "outputs": [],
   "source": [
    "df = pd.read_csv(\"/Users/livdreyerjohansen/Desktop/CSS/final_papers_dataset.csv\", usecols = [\"id\",\"author_ids\"])\n",
    "\n",
    "df['author_ids'] = df['author_ids'].apply(ast.literal_eval) # convert string to list"
   ]
  },
  {
   "cell_type": "markdown",
   "metadata": {},
   "source": [
    "### Create List of Collaborations between authors"
   ]
  },
  {
   "cell_type": "code",
   "execution_count": 5,
   "metadata": {},
   "outputs": [],
   "source": [
    "collabs = []\n",
    "for work_idx in range(len(df[\"id\"])):\n",
    "    work = df[\"id\"][work_idx]\n",
    "    collabs.extend([(a, b) for idx, a in enumerate(df[\"author_ids\"][work_idx]) for b in df[\"author_ids\"][work_idx][idx + 1:]])\n",
    "    if work_idx == 100:\n",
    "        break\n"
   ]
  },
  {
   "cell_type": "markdown",
   "metadata": {},
   "source": [
    "### Count the number of occurences of the Collaborations"
   ]
  },
  {
   "cell_type": "code",
   "execution_count": 6,
   "metadata": {},
   "outputs": [],
   "source": [
    "authors_collabs = []\n",
    "for authors in collabs:\n",
    "    count = 0\n",
    "    for j in range(len(collabs)):\n",
    "        if authors == collabs[j]:\n",
    "            count += 1\n",
    "    authors_collabs.append((authors[0],authors[1],count))\n"
   ]
  },
  {
   "cell_type": "code",
   "execution_count": 7,
   "metadata": {},
   "outputs": [
    {
     "data": {
      "text/plain": [
       "{}"
      ]
     },
     "execution_count": 7,
     "metadata": {},
     "output_type": "execute_result"
    }
   ],
   "source": [
    "\n",
    "G = nx.Graph()\n",
    "G.add_weighted_edges_from(authors_collabs)\n",
    "G.edges(data=True)\n",
    "\n",
    "G.nodes['https://openalex.org/A5075442335']\n"
   ]
  },
  {
   "cell_type": "markdown",
   "metadata": {},
   "source": [
    "### Get unique others in the collaborations"
   ]
  },
  {
   "cell_type": "code",
   "execution_count": 8,
   "metadata": {},
   "outputs": [],
   "source": [
    "authors = []\n",
    "for i in range(len(collabs)):\n",
    "    if collabs[i][0] not in authors:\n",
    "        authors.append(collabs[i][0])\n"
   ]
  },
  {
   "cell_type": "markdown",
   "metadata": {},
   "source": [
    "### Collect data for the authors"
   ]
  },
  {
   "cell_type": "code",
   "execution_count": 9,
   "metadata": {},
   "outputs": [
    {
     "name": "stdout",
     "output_type": "stream",
     "text": [
      "https://openalex.org/A5075442335\n"
     ]
    }
   ],
   "source": [
    "import requests\n",
    "from datetime import datetime\n",
    "\n",
    "G = nx.Graph()\n",
    "G.add_weighted_edges_from(authors_collabs)\n",
    "G.edges(data=True)\n",
    "\n",
    "for i in range(1):\n",
    "    BASE_URL = \"https://api.openalex.org/authors\"\n",
    "    SEARCH = f\"/{authors[i]}\"\n",
    "    SELECT = \"?select=id,display_name,works_api_url,cited_by_count,last_known_institutions\"\n",
    "\n",
    "    req = requests.get(BASE_URL + SEARCH + SELECT)\n",
    "\n",
    "    result = req.json()\n",
    "    country = result['last_known_institutions'][0]['country_code']\n",
    "    name = result['display_name']\n",
    "    cites = result['cited_by_count']\n",
    "    id = result['id']\n",
    "    req2 = requests.get(result[\"works_api_url\"])\n",
    "\n",
    "    authors_work = req2.json()\n",
    "    date = datetime.strptime(\"3000-01-01\", \"%Y-%m-%d\")\n",
    "    # for j in range(len(authors_work['results'])):\n",
    "    for j in range(len(authors_work['results'])):\n",
    "        field = authors_work['results'][j]['primary_topic']['field']['display_name']\n",
    "        if field == \"Sociology\" or \"Psychology\" or \"Economics\" or \"Political Science\":\n",
    "            date_string = authors_work['results'][j]['created_date']\n",
    "            if date > datetime.strptime(date_string, \"%Y-%m-%d\"):\n",
    "                date = datetime.strptime(date_string, \"%Y-%m-%d\")\n",
    "                \n",
    "    year_firstpub = date.date().year\n",
    "    author_attribute = {'display_name': name, 'country': country, 'citation_count': cites, 'first_publication' : year_firstpub}\n",
    "    nx.set_node_attributes(G, {id : author_attribute})\n",
    "    print(id)"
   ]
  },
  {
   "cell_type": "code",
   "execution_count": 18,
   "metadata": {},
   "outputs": [
    {
     "name": "stdout",
     "output_type": "stream",
     "text": [
      "1.\n",
      "Total number of nodes:  332\n",
      "Total number of links:  6291\n",
      "2.\n",
      "Total number of links:  6291\n",
      "Max. number of links:  54946.0\n",
      "The ratio is: 0.11449423069923197\n",
      "3.\n",
      "The network is disconnected as this value is not 1: 4\n",
      "4.\n",
      "The network has 4 components\n"
     ]
    }
   ],
   "source": [
    "#Part 2\n",
    "#What is the total number of nodes (authors) and links (collaborations) in the network?\n",
    "nodes = G.number_of_nodes()\n",
    "links = G.number_of_edges()\n",
    "max_links = (nodes*(nodes-1))/2\n",
    "\n",
    "print(\"1.\")\n",
    "print(\"Total number of nodes: \", nodes)\n",
    "print(\"Total number of links: \", links)\n",
    "\n",
    "print(\"2.\")\n",
    "#Calculate the network's density (the ratio of actual links to the maximum possible number of links). Would you say that the network is sparse? Justify your answer.\n",
    "print(\"Total number of links: \", links)\n",
    "print(\"Max. number of links: \", max_links)\n",
    "print(\"The ratio is:\", links/max_links)\n",
    "\n",
    "print(\"3.\")\n",
    "#Is the network fully connected (i.e., is there a direct or indirect path between every pair of nodes within the network), or is it disconnected?\n",
    "print(\"The network is disconnected as this value is not 1:\", len(list(nx.connected_components(G))))\n",
    "\n",
    "print(\"4.\")\n",
    "#If the network is disconnected, how many connected components does it have? A connected component is defined as a subset of nodes within the network where a path exists between any pair of nodes in that subset.\n",
    "print(\"The network has\", len(list(nx.connected_components(G))), \"components\")\n",
    "\n",
    "print(\"5.\")\n"
   ]
  },
  {
   "cell_type": "code",
   "execution_count": null,
   "metadata": {},
   "outputs": [],
   "source": []
  }
 ],
 "metadata": {
  "kernelspec": {
   "display_name": "Python 3",
   "language": "python",
   "name": "python3"
  },
  "language_info": {
   "codemirror_mode": {
    "name": "ipython",
    "version": 3
   },
   "file_extension": ".py",
   "mimetype": "text/x-python",
   "name": "python",
   "nbconvert_exporter": "python",
   "pygments_lexer": "ipython3",
   "version": "3.12.1"
  },
  "orig_nbformat": 4,
  "vscode": {
   "interpreter": {
    "hash": "aee8b7b246df8f9039afb4144a1f6fd8d2ca17a180786b69acc140d282b71a49"
   }
  }
 },
 "nbformat": 4,
 "nbformat_minor": 2
}
