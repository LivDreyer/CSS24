{
 "cells": [
  {
   "cell_type": "code",
   "execution_count": 56,
   "metadata": {},
   "outputs": [],
   "source": [
    "import pandas as pd\n",
    "import numpy as np\n",
    "import ast\n",
    "import networkx as nx\n",
    "import matplotlib"
   ]
  },
  {
   "cell_type": "code",
   "execution_count": 57,
   "metadata": {},
   "outputs": [],
   "source": [
    "df = pd.read_csv('final_papers_dataset.csv', usecols = [\"id\",\"author_ids\"])\n",
    "\n",
    "df['author_ids'] = df['author_ids'].apply(ast.literal_eval) # convert string to list"
   ]
  },
  {
   "cell_type": "markdown",
   "metadata": {},
   "source": [
    "### Create List of Collaborations between authors"
   ]
  },
  {
   "cell_type": "code",
   "execution_count": 58,
   "metadata": {},
   "outputs": [],
   "source": [
    "collabs = []\n",
    "for work_idx in range(len(df[\"id\"])):\n",
    "    work = df[\"id\"][work_idx]\n",
    "    collabs.extend([(a, b) for idx, a in enumerate(df[\"author_ids\"][work_idx]) for b in df[\"author_ids\"][work_idx][idx + 1:]])\n",
    "    if work_idx == 100:\n",
    "        break\n"
   ]
  },
  {
   "cell_type": "markdown",
   "metadata": {},
   "source": [
    "### Count the number of occurences of the Collaborations"
   ]
  },
  {
   "cell_type": "code",
   "execution_count": 59,
   "metadata": {},
   "outputs": [],
   "source": [
    "authors_collabs = []\n",
    "for authors in collabs:\n",
    "    count = 0\n",
    "    for j in range(len(collabs)):\n",
    "        if authors == collabs[j]:\n",
    "            count += 1\n",
    "    authors_collabs.append((authors[0],authors[1],count))\n"
   ]
  },
  {
   "cell_type": "code",
   "execution_count": 85,
   "metadata": {},
   "outputs": [
    {
     "data": {
      "text/plain": [
       "{}"
      ]
     },
     "execution_count": 85,
     "metadata": {},
     "output_type": "execute_result"
    }
   ],
   "source": [
    "\n",
    "G = nx.Graph()\n",
    "G.add_weighted_edges_from(authors_collabs)\n",
    "G.edges(data=True)\n",
    "\n",
    "G.nodes['https://openalex.org/A5075442335']\n"
   ]
  },
  {
   "cell_type": "markdown",
   "metadata": {},
   "source": [
    "### Get unique others in the collaborations"
   ]
  },
  {
   "cell_type": "code",
   "execution_count": 61,
   "metadata": {},
   "outputs": [],
   "source": [
    "authors = []\n",
    "for i in range(len(collabs)):\n",
    "    if collabs[i][0] not in authors:\n",
    "        authors.append(collabs[i][0])\n"
   ]
  },
  {
   "cell_type": "markdown",
   "metadata": {},
   "source": [
    "### Collect data for the authors"
   ]
  },
  {
   "cell_type": "code",
   "execution_count": 89,
   "metadata": {},
   "outputs": [
    {
     "name": "stdout",
     "output_type": "stream",
     "text": [
      "https://openalex.org/A5075442335\n"
     ]
    },
    {
     "data": {
      "text/plain": [
       "{'display_name': 'Lei Zhou',\n",
       " 'country': 'CN',\n",
       " 'citation_count': 7154,\n",
       " 'first_publication': 2016}"
      ]
     },
     "execution_count": 89,
     "metadata": {},
     "output_type": "execute_result"
    }
   ],
   "source": [
    "import requests\n",
    "from datetime import datetime\n",
    "\n",
    "G = nx.Graph()\n",
    "G.add_weighted_edges_from(authors_collabs)\n",
    "G.edges(data=True)\n",
    "\n",
    "for i in range(1):\n",
    "    BASE_URL = \"https://api.openalex.org/authors\"\n",
    "    SEARCH = f\"/{authors[i]}\"\n",
    "    SELECT = \"?select=id,display_name,works_api_url,cited_by_count,last_known_institutions\"\n",
    "\n",
    "    req = requests.get(BASE_URL + SEARCH + SELECT)\n",
    "\n",
    "    result = req.json()\n",
    "    country = result['last_known_institutions'][0]['country_code']\n",
    "    name = result['display_name']\n",
    "    cites = result['cited_by_count']\n",
    "    id = result['id']\n",
    "    req2 = requests.get(result[\"works_api_url\"])\n",
    "\n",
    "    authors_work = req2.json()\n",
    "    date = datetime.strptime(\"3000-01-01\", \"%Y-%m-%d\")\n",
    "    # for j in range(len(authors_work['results'])):\n",
    "    for j in range(len(authors_work['results'])):\n",
    "        field = authors_work['results'][j]['primary_topic']['field']['display_name']\n",
    "        if field == \"Sociology\" or \"Psychology\" or \"Economics\" or \"Political Science\":\n",
    "            date_string = authors_work['results'][j]['created_date']\n",
    "            if date > datetime.strptime(date_string, \"%Y-%m-%d\"):\n",
    "                date = datetime.strptime(date_string, \"%Y-%m-%d\")\n",
    "                \n",
    "    year_firstpub = date.date().year\n",
    "    author_attribute = {'display_name': name, 'country': country, 'citation_count': cites, 'first_publication' : year_firstpub}\n",
    "    nx.set_node_attributes(G, {id : author_attribute})\n",
    "    print(id)"
   ]
  }
 ],
 "metadata": {
  "kernelspec": {
   "display_name": "Python 3.12.1 ('css')",
   "language": "python",
   "name": "python3"
  },
  "language_info": {
   "codemirror_mode": {
    "name": "ipython",
    "version": 3
   },
   "file_extension": ".py",
   "mimetype": "text/x-python",
   "name": "python",
   "nbconvert_exporter": "python",
   "pygments_lexer": "ipython3",
   "version": "3.12.1"
  },
  "orig_nbformat": 4,
  "vscode": {
   "interpreter": {
    "hash": "2498d96ff24360c0fb8387073d635077a1e11947de042b60174b5fbfd59c0ad5"
   }
  }
 },
 "nbformat": 4,
 "nbformat_minor": 2
}
