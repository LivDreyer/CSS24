{
 "cells": [
  {
   "cell_type": "code",
   "execution_count": 113,
   "metadata": {},
   "outputs": [],
   "source": [
    "import networkx as nx\n",
    "import pandas as pd\n",
    "import tqdm\n",
    "from collections import Counter\n",
    "import json\n",
    "import netwulf as nu\n",
    "import matplotlib.pyplot as plt"
   ]
  },
  {
   "cell_type": "markdown",
   "metadata": {},
   "source": [
    "#### Helper Functions"
   ]
  },
  {
   "cell_type": "code",
   "execution_count": 179,
   "metadata": {},
   "outputs": [],
   "source": [
    "# Function to convert comma-separated strings to list and flatten\n",
    "def aggregate_features(x):\n",
    "    # Split each string by comma, flatten the list, and remove duplicates\n",
    "    flat_list = [item.strip() for sublist in x for item in sublist.split(',')]\n",
    "    return list(flat_list)\n",
    "\n",
    "\n",
    "pop_acronyms = ['pop']\t\n",
    "rock_acronyms = ['rock', 'metal', 'punk', 'grunge']\n",
    "hip_hop_acronyms = ['hip hop', 'rap', 'trap']\n",
    "rnb_acronyms = ['r&b', 'jazz', 'blues', 'funk', 'lounge', 'soul']\n",
    "country_acronyms = ['country']\n",
    "indie_acronyms = ['indie']\n",
    "electronic_acronyms = ['electronic','electro', 'edm', 'house', 'techno', 'dubstep', 'basshall', 'bass']\n",
    "latin_acronyms = ['latino', 'corrido', 'latin', 'banda', 'ranchera', 'mariachi', 'cantautor', 'arrocha', 'sertanejo', 'vallenato'] # cantautor should maybe be added to rock and pop\n",
    "raggae_acronyms = ['reggaeton', 'reggae']\n",
    "hindi_acronyms = ['bollywood', 'filmi']\n",
    "hollywood_acronyms = ['hollywood', 'soundtrack', 'movie tunes']\n",
    "\n",
    "def rename_genres(original_genre_name):\n",
    "    new_genre_name = []\n",
    "    if type(original_genre_name) != str:\n",
    "        original_genre_name = str(original_genre_name)\n",
    "    if any(x in original_genre_name for x in pop_acronyms):\n",
    "        new_genre_name.append('pop')\n",
    "    if any(x in original_genre_name for x in rock_acronyms):\n",
    "        new_genre_name.append('rock')\n",
    "    if any(x in original_genre_name for x in hip_hop_acronyms):\n",
    "        new_genre_name.append('hip hop')\n",
    "    if any(x in original_genre_name for x in rnb_acronyms):\n",
    "        new_genre_name.append('r&b')\n",
    "    if any(x in original_genre_name for x in electronic_acronyms):\n",
    "        new_genre_name.append('electronic')\n",
    "    if any(x in original_genre_name for x in country_acronyms):\n",
    "        new_genre_name.append('country')\n",
    "    if any(x in original_genre_name for x in indie_acronyms):\n",
    "        new_genre_name.append('indie')\n",
    "    if any(x in original_genre_name for x in latin_acronyms):\n",
    "        new_genre_name.append('latin')\n",
    "    if any(x in original_genre_name for x in raggae_acronyms):\n",
    "        new_genre_name.append('raggae')\n",
    "    if any(x in original_genre_name for x in hindi_acronyms):\n",
    "        new_genre_name.append('hindi/bollywood')\n",
    "    if any(x in original_genre_name for x in hollywood_acronyms):\n",
    "        new_genre_name.append('hollywood')\n",
    "    if original_genre_name == \"[]\":\n",
    "        new_genre_name.append('undefined')\n",
    "    if not new_genre_name:\n",
    "        new_genre_name.append('other')\n",
    "    return new_genre_name\n",
    "\n",
    "def visualize(G):\n",
    "    a, b = nu.visualize(G)\n",
    "    return a, b\n",
    "\n"
   ]
  },
  {
   "cell_type": "markdown",
   "metadata": {},
   "source": [
    "## Gather Nodes for the network"
   ]
  },
  {
   "cell_type": "markdown",
   "metadata": {},
   "source": [
    "### Rename Genres"
   ]
  },
  {
   "cell_type": "code",
   "execution_count": 180,
   "metadata": {},
   "outputs": [
    {
     "name": "stdout",
     "output_type": "stream",
     "text": [
      "<bound method NDFrame.head of                                       Song Name Main Artist  \\\n",
      "0                                     One Dance       drake   \n",
      "1       Rich Baby Daddy (feat. Sexyy Red & SZA)       drake   \n",
      "2                            IDGAF (feat. Yeat)       drake   \n",
      "3        act ii: date @ 8 (feat. Drake) - remix       drake   \n",
      "4          First Person Shooter (feat. J. Cole)       drake   \n",
      "...                                         ...         ...   \n",
      "132035                            Bam Bam Bhole  kartik dev   \n",
      "132036          Pyaar Ch Haan (From \"Furteela\")  kartik dev   \n",
      "132037            Main Kamla (From \" Furteela\")  kartik dev   \n",
      "132038                          Satnam Waheguru  kartik dev   \n",
      "132039                               Tu Aaja Na  kartik dev   \n",
      "\n",
      "                             Featured Artists          Genres  Popularity  \\\n",
      "0                                Wizkid, Kyla  [pop, hip hop]          95   \n",
      "1                              Sexyy Red, SZA  [pop, hip hop]          95   \n",
      "2                                        Yeat  [pop, hip hop]          95   \n",
      "3                                       4batz  [pop, hip hop]          95   \n",
      "4                                     J. Cole  [pop, hip hop]          95   \n",
      "...                                       ...             ...         ...   \n",
      "132035        Hansraj Raghuwanshi, Gaurav Dev         [other]          56   \n",
      "132036  Jassie Gill, Gaurav Dev, Raj Fatehpur         [other]          56   \n",
      "132037         Jassie Gill, Gaurav Dev, Abeer         [other]          56   \n",
      "132038                   Gurnazar, Gaurav Dev         [other]          56   \n",
      "132039                   Gurnazar, Stebin Ben         [other]          56   \n",
      "\n",
      "        Followers  \n",
      "0        83298497  \n",
      "1        83298497  \n",
      "2        83298497  \n",
      "3        83298497  \n",
      "4        83298497  \n",
      "...           ...  \n",
      "132035       2411  \n",
      "132036       2411  \n",
      "132037       2411  \n",
      "132038       2411  \n",
      "132039       2411  \n",
      "\n",
      "[132040 rows x 6 columns]>\n"
     ]
    }
   ],
   "source": [
    "df = pd.read_csv('Final_Songs_with_Artists_and_Features.csv')\n",
    "\n",
    "df['Genres'] = df['Genres'].apply(rename_genres) # Split genres by comma\n",
    "\n",
    "print(df.head)"
   ]
  },
  {
   "cell_type": "code",
   "execution_count": 181,
   "metadata": {},
   "outputs": [],
   "source": [
    "df_artists =  df.drop_duplicates(subset='Main Artist') #Only interested in one node per artist"
   ]
  },
  {
   "cell_type": "markdown",
   "metadata": {},
   "source": [
    "### Assign color mapping to combination of genres"
   ]
  },
  {
   "cell_type": "code",
   "execution_count": 182,
   "metadata": {},
   "outputs": [
    {
     "name": "stdout",
     "output_type": "stream",
     "text": [
      "[['pop', 'hip hop'], ['pop', 'hip hop'], ['pop'], ['hip hop', 'latin', 'raggae'], ['hip hop', 'latin', 'raggae'], ['pop'], ['pop', 'hip hop', 'latin', 'raggae'], ['pop'], ['pop', 'r&b'], ['hip hop', 'latin', 'raggae']]\n"
     ]
    }
   ],
   "source": [
    "genres_list  = [row['Genres'] for index, row in df_artists.iterrows()]\n",
    "\n",
    "# Using a Counter to count occurrences of each unique combination\n",
    "# We convert the internal lists to tuples because lists cannot be hashed and used as dictionary keys\n",
    "genre_combinations = Counter(tuple(genre) for genre in genres_list)\n",
    "\n",
    "# Display the count of each unique combination\n",
    "genre_combinations = genre_combinations.most_common()\n",
    "\n",
    "# for genres, count in genre_combinations:\n",
    "#     print(f\"{' & '.join(genres)}: {count}\")\n",
    "\n",
    "color_mapping = {\n",
    "    'red': '#FF0000',\n",
    "    'green': '#008000',\n",
    "    'blue': '#0000FF',\n",
    "    'yellow': '#FFFF00',\n",
    "    'purple': '#800080',\n",
    "    'orange': '#FFA500',\n",
    "    'teal': '#008080',\n",
    "    'lime': '#00FF00',\n",
    "    'pink': '#FFC0CB',\n",
    "    'grey': '#808080',\n",
    "    'navy': '#000080',\n",
    "    'maroon': '#800000',\n",
    "    'olive': '#808000',\n",
    "    'magenta': '#FF00FF',\n",
    "    'tan': '#D2B48C',\n",
    "    'cyan': '#00FFFF',\n",
    "    'violet': '#EE82EE',\n",
    "    'coral': '#FF7F50',\n",
    "    'khaki': '#F0E68C',\n",
    "    'lavender': '#E6E6FA',\n",
    "    'silver': '#C0C0C0',\n",
    "    'peach': '#FFEFD5',\n",
    "    'bronze': '#CD7F32',\n",
    "    'plum': '#DDA0DD',\n",
    "    'gold': '#FFD700',\n",
    "    'ivory': '#FFFFF0',\n",
    "    'beige': '#F5F5DC',\n",
    "    'mustard': '#FFDB58',\n",
    "    'turquoise': '#40E0D0',\n",
    "    'mint': '#98FF98',\n",
    "    'saffron': '#F4C430',\n",
    "    'fuchsia': '#FF00FF',\n",
    "    'cinnamon': '#D2691E',\n",
    "    'chartreuse': '#7FFF00',\n",
    "    'azure': '#F0FFFF',\n",
    "    'indigo': '#4B0082',\n",
    "    'periwinkle': '#CCCCFF',\n",
    "    'sand': '#C2B280',\n",
    "    'clay': '#B66D28',\n",
    "    'honeydew': '#F0FFF0',\n",
    "    'flamingo': '#FC8EAC',\n",
    "    'lemon': '#FFFACD',\n",
    "    'raspberry': '#E30B5D',\n",
    "    'forest green': '#228B22',\n",
    "    'auburn': '#A52A2A',\n",
    "    'midnight blue': '#191970',\n",
    "    'cream': '#FFFDD0',\n",
    "    'amber': '#FFBF00',\n",
    "    'emerald': '#50C878',\n",
    "    'sapphire': '#0F52BA',\n",
    "    'cerulean': '#007BA7',\n",
    "    'charcoal': '#36454F',\n",
    "    'ruby': '#E0115F',\n",
    "    'slate': '#708090',\n",
    "    'orchid': '#DA70D6',\n",
    "    'crimson': '#DC143C',\n",
    "    'cobalt': '#0047AB',\n",
    "    'ocean blue': '#4F42B5',\n",
    "    'firebrick': '#B22222',\n",
    "    'moss green': '#8A9A5B',\n",
    "    'jade': '#00A86B',\n",
    "    'eggplant': '#614051',\n",
    "    'copper': '#B87333',\n",
    "    'cherry': '#DE3163',\n",
    "    'sepia': '#704214',\n",
    "    'citrine': '#E4D00A',\n",
    "    'gunmetal': '#2a3439',\n",
    "    'pistachio': '#93C572',\n",
    "    'salmon': '#FA8072',\n",
    "    'caramel': '#FFD59A',\n",
    "    'taupe': '#483C32',\n",
    "    'electric blue': '#7DF9FF',\n",
    "    'mauve': '#E0B0FF',\n",
    "    'sienna': '#882D17',\n",
    "    'fern green': '#4F7942',\n",
    "    'butter': '#FFF48D',\n",
    "    'tangerine': '#F28500',\n",
    "}\n",
    "category_dict = {}\n",
    "cat_tracker = 0\n",
    "for genres, count in genre_combinations:\n",
    "    if genres not in category_dict and count > 100:\n",
    "        color = list(color_mapping.keys())[cat_tracker]\n",
    "        category_dict[genres] = color_mapping[color]\n",
    "        cat_tracker += 1\n",
    "    if genres not in category_dict and count <= 100:\n",
    "        category_dict[genres] = '#000000'\n",
    "    if cat_tracker >= len(color_mapping):\n",
    "        cat_tracker = 0\n",
    "    \n"
   ]
  },
  {
   "cell_type": "markdown",
   "metadata": {},
   "source": [
    "Create a list that has the final Combinations and Genres for the network"
   ]
  },
  {
   "cell_type": "code",
   "execution_count": 183,
   "metadata": {},
   "outputs": [],
   "source": [
    "top_combinations = []\n",
    "top_combinations_dict = {}\n",
    "for genre, count in genre_combinations:\n",
    "    if count > 200 or len(genre) == 1:\n",
    "        top_combinations_dict[genre] = category_dict[genre]\n",
    "        top_combinations.append(genre)"
   ]
  },
  {
   "cell_type": "markdown",
   "metadata": {},
   "source": [
    "Categorize within the final list."
   ]
  },
  {
   "cell_type": "code",
   "execution_count": 186,
   "metadata": {},
   "outputs": [],
   "source": [
    "for genres, count in reversed(genre_combinations):\n",
    "    if count <= 200:\n",
    "        for combination in top_combinations:\n",
    "            if(all(x in genres for x in combination)):\n",
    "                category_dict[genres] = category_dict[combination]\n"
   ]
  },
  {
   "cell_type": "markdown",
   "metadata": {},
   "source": [
    "### Gather attributes for nodes"
   ]
  },
  {
   "cell_type": "code",
   "execution_count": 188,
   "metadata": {},
   "outputs": [
    {
     "name": "stderr",
     "output_type": "stream",
     "text": [
      "100%|██████████| 14088/14088 [00:01<00:00, 8655.78it/s]\n"
     ]
    }
   ],
   "source": [
    "#Add attributes for each artist\n",
    "attr_list = []\n",
    "for index, row in tqdm.tqdm(df_artists.iterrows(), total=df_artists.shape[0]):\n",
    "    artist_attributes = {'genres': row['Genres'], 'popularity': row['Popularity'], 'followers': row['Followers'], 'size': 1, 'group' : category_dict[tuple(row['Genres'])]}\n",
    "    attr_list.append((row['Main Artist'], artist_attributes))\n",
    "\n",
    "       \n",
    "    "
   ]
  },
  {
   "cell_type": "markdown",
   "metadata": {},
   "source": [
    "## Gather Edges for the network"
   ]
  },
  {
   "cell_type": "markdown",
   "metadata": {},
   "source": [
    "### Drop songs that have no features and aggregate collaborations to one row"
   ]
  },
  {
   "cell_type": "code",
   "execution_count": 189,
   "metadata": {},
   "outputs": [],
   "source": [
    "\n",
    "# drop NA values\n",
    "df_artists_features = df.dropna() # Might replace some artist that haven't been featured with anyone\n",
    "\n",
    "# Group by 'Main Artist' and aggregate 'Featured Artists' into a list\n",
    "df_grouped_featured = df_artists_features.groupby('Main Artist')['Featured Artists'].agg(aggregate_features).reset_index()\n",
    "\n",
    "\n",
    "def lower(list):\n",
    "    return [x.lower() for x in list]\n",
    "\n",
    "df_grouped_featured['Featured Artists'] = df_grouped_featured['Featured Artists'].apply(lower) \n",
    "\n",
    "# Save the result to a CSV file\n",
    "df_grouped_featured.to_csv('Artists_Features.csv', index=False)"
   ]
  },
  {
   "cell_type": "code",
   "execution_count": 190,
   "metadata": {},
   "outputs": [
    {
     "data": {
      "text/html": [
       "<div>\n",
       "<style scoped>\n",
       "    .dataframe tbody tr th:only-of-type {\n",
       "        vertical-align: middle;\n",
       "    }\n",
       "\n",
       "    .dataframe tbody tr th {\n",
       "        vertical-align: top;\n",
       "    }\n",
       "\n",
       "    .dataframe thead th {\n",
       "        text-align: right;\n",
       "    }\n",
       "</style>\n",
       "<table border=\"1\" class=\"dataframe\">\n",
       "  <thead>\n",
       "    <tr style=\"text-align: right;\">\n",
       "      <th></th>\n",
       "      <th>Main Artist</th>\n",
       "      <th>Featured Artists</th>\n",
       "    </tr>\n",
       "  </thead>\n",
       "  <tbody>\n",
       "    <tr>\n",
       "      <th>0</th>\n",
       "      <td>!llmind</td>\n",
       "      <td>[guapdad 4000, guapdad 4000, guapdad 4000, gua...</td>\n",
       "    </tr>\n",
       "    <tr>\n",
       "      <th>1</th>\n",
       "      <td>#estudeofunk</td>\n",
       "      <td>[larissa, mc gut original, dee-x, larissa, k&amp;o...</td>\n",
       "    </tr>\n",
       "    <tr>\n",
       "      <th>2</th>\n",
       "      <td>#tocoparavos</td>\n",
       "      <td>[meri deal, meri deal, el reja, marka akme, me...</td>\n",
       "    </tr>\n",
       "    <tr>\n",
       "      <th>3</th>\n",
       "      <td>$amuka</td>\n",
       "      <td>[big bllakk, rock danger, juyè, beat do ávila,...</td>\n",
       "    </tr>\n",
       "    <tr>\n",
       "      <th>4</th>\n",
       "      <td>$hirak</td>\n",
       "      <td>[cristian d, km, cristian d, lil kleine, boef,...</td>\n",
       "    </tr>\n",
       "    <tr>\n",
       "      <th>...</th>\n",
       "      <td>...</td>\n",
       "      <td>...</td>\n",
       "    </tr>\n",
       "    <tr>\n",
       "      <th>13007</th>\n",
       "      <td>馬毓芬</td>\n",
       "      <td>[lala hsu, michael wong, eve ai, matzka, 黃子佼, ...</td>\n",
       "    </tr>\n",
       "    <tr>\n",
       "      <th>13008</th>\n",
       "      <td>騒音寺</td>\n",
       "      <td>[dohatsuten, 綾小路 翔(氣志團), うつみようこ, oi-skall mate...</td>\n",
       "    </tr>\n",
       "    <tr>\n",
       "      <th>13009</th>\n",
       "      <td>高爾宣 osn</td>\n",
       "      <td>[sophie chen, 李浩瑋 howard lee, vicky chen]</td>\n",
       "    </tr>\n",
       "    <tr>\n",
       "      <th>13010</th>\n",
       "      <td>黃子佼</td>\n",
       "      <td>[lala hsu, michael wong, eve ai, matzka, 陶晶瑩, ...</td>\n",
       "    </tr>\n",
       "    <tr>\n",
       "      <th>13011</th>\n",
       "      <td>黃韻玲</td>\n",
       "      <td>[張艾嘉, 王新蓮, sarah chen, chyi yu, wakin chau, 文章...</td>\n",
       "    </tr>\n",
       "  </tbody>\n",
       "</table>\n",
       "<p>13012 rows × 2 columns</p>\n",
       "</div>"
      ],
      "text/plain": [
       "        Main Artist                                   Featured Artists\n",
       "0           !llmind  [guapdad 4000, guapdad 4000, guapdad 4000, gua...\n",
       "1      #estudeofunk  [larissa, mc gut original, dee-x, larissa, k&o...\n",
       "2      #tocoparavos  [meri deal, meri deal, el reja, marka akme, me...\n",
       "3            $amuka  [big bllakk, rock danger, juyè, beat do ávila,...\n",
       "4            $hirak  [cristian d, km, cristian d, lil kleine, boef,...\n",
       "...             ...                                                ...\n",
       "13007           馬毓芬  [lala hsu, michael wong, eve ai, matzka, 黃子佼, ...\n",
       "13008           騒音寺  [dohatsuten, 綾小路 翔(氣志團), うつみようこ, oi-skall mate...\n",
       "13009       高爾宣 osn          [sophie chen, 李浩瑋 howard lee, vicky chen]\n",
       "13010           黃子佼  [lala hsu, michael wong, eve ai, matzka, 陶晶瑩, ...\n",
       "13011           黃韻玲  [張艾嘉, 王新蓮, sarah chen, chyi yu, wakin chau, 文章...\n",
       "\n",
       "[13012 rows x 2 columns]"
      ]
     },
     "execution_count": 190,
     "metadata": {},
     "output_type": "execute_result"
    }
   ],
   "source": [
    "df_grouped_featured"
   ]
  },
  {
   "cell_type": "markdown",
   "metadata": {},
   "source": [
    "### Get collaborations"
   ]
  },
  {
   "cell_type": "code",
   "execution_count": 191,
   "metadata": {},
   "outputs": [],
   "source": [
    "collabs = []\n",
    "for artist_idx in range(len(df_grouped_featured['Main Artist'])):\n",
    "    features = df_grouped_featured['Featured Artists'][artist_idx]\n",
    "    main_artist = df_grouped_featured['Main Artist'][artist_idx]\n",
    "    collabs.extend((main_artist, feature) for feature in features if feature in df_artists_features['Main Artist'].values)\n"
   ]
  },
  {
   "cell_type": "markdown",
   "metadata": {},
   "source": [
    "### Number of collaborations between two artists"
   ]
  },
  {
   "cell_type": "code",
   "execution_count": 192,
   "metadata": {},
   "outputs": [],
   "source": [
    "#Count the number of occurences of the Collaborations\n",
    "counter = Counter(collabs)\n",
    "occurrences = counter.most_common()\n",
    "artists_collabs = [(pair[0], pair[1], count) for pair, count in occurrences]\n",
    "artists_edges = [{'source': pair[0], 'target': pair[1], 'value' : count} for pair, count in occurrences]\n"
   ]
  },
  {
   "cell_type": "markdown",
   "metadata": {},
   "source": [
    "## Populate the network"
   ]
  },
  {
   "cell_type": "code",
   "execution_count": 193,
   "metadata": {},
   "outputs": [],
   "source": [
    "#Create graph and employ the G.add_weighted_edges_from() function\n",
    "G = nx.Graph()\n",
    "for artist_name, attr in attr_list:\n",
    "    G.add_node(artist_name, genres = attr['genres'], popularity = attr['popularity'], followers = attr['followers'], size = attr['size'], group = attr['group'])\n",
    "G.add_weighted_edges_from(artists_collabs)"
   ]
  },
  {
   "cell_type": "code",
   "execution_count": 194,
   "metadata": {},
   "outputs": [
    {
     "name": "stdout",
     "output_type": "stream",
     "text": [
      "Maximum number of degrees: 193\n"
     ]
    }
   ],
   "source": [
    "# Assuming you have a graph called G\n",
    "max_degree = max(dict(nx.degree(G)).values())\n",
    "\n",
    "print(\"Maximum number of degrees:\", max_degree)\n"
   ]
  },
  {
   "cell_type": "markdown",
   "metadata": {},
   "source": [
    "### Scale size of nodes with follower count"
   ]
  },
  {
   "cell_type": "code",
   "execution_count": 195,
   "metadata": {},
   "outputs": [],
   "source": [
    "# Scale size of nodes by followers\n",
    "for node in G.nodes():\n",
    "    G.nodes[node]['size'] = G.nodes[node]['followers']\n",
    "\n",
    "# Scale size of nodes by popularity\n",
    "# for node in G.nodes():\n",
    "#     G.nodes[node]['size'] = G.nodes[node]['popularity']"
   ]
  },
  {
   "cell_type": "code",
   "execution_count": null,
   "metadata": {},
   "outputs": [],
   "source": [
    "# nodes_to_remove = []\n",
    "# for node in G.nodes():\n",
    "#     if G.nodes[node]['genres'] == ['other'] :\n",
    "#         nodes_to_remove.append(node)\n",
    "        \n",
    "# for node in nodes_to_remove:\n",
    "#     G.remove_node(node)"
   ]
  },
  {
   "cell_type": "markdown",
   "metadata": {},
   "source": [
    "### Plot bar for group assignments"
   ]
  },
  {
   "cell_type": "code",
   "execution_count": 196,
   "metadata": {},
   "outputs": [
    {
     "data": {
      "image/png": "[encoded data removed]",
      "text/plain": [
       "<Figure size 640x480 with 1 Axes>"
      ]
     },
     "metadata": {},
     "output_type": "display_data"
    }
   ],
   "source": [
    "import matplotlib.pyplot as plt\n",
    "import matplotlib.patches as mpatches\n",
    "\n",
    "# Create figure and axes\n",
    "fig, ax = plt.subplots()\n",
    "\n",
    "# Create a list of patches\n",
    "patches = [mpatches.Patch(color=color, label=', '.join(genres)) for genres, color in top_combinations_dict.items()]\n",
    "\n",
    "# Add patches to legend\n",
    "legend = ax.legend(handles=patches, loc='center', frameon=False)\n",
    "\n",
    "# Hide axes\n",
    "ax.axis('off')\n",
    "\n",
    "# Save or display the legend\n",
    "plt.savefig('legend.png')  # Save the legend as a PNG file\n",
    "plt.show()  # Display the legend on screen"
   ]
  },
  {
   "cell_type": "markdown",
   "metadata": {},
   "source": [
    "### Export network to json"
   ]
  },
  {
   "cell_type": "code",
   "execution_count": 197,
   "metadata": {},
   "outputs": [],
   "source": [
    "from networkx.readwrite import json_graph\n",
    "\n",
    "graph_as_json = json_graph.node_link_data(G)\n",
    "\n",
    "with open('graph2.json', 'w') as f:\n",
    "    json.dump(graph_as_json, f, indent=4)"
   ]
  },
  {
   "cell_type": "markdown",
   "metadata": {},
   "source": [
    "### Visualize network"
   ]
  },
  {
   "cell_type": "code",
   "execution_count": 198,
   "metadata": {},
   "outputs": [
    {
     "data": {
      "text/plain": [
       "(None, None)"
      ]
     },
     "execution_count": 198,
     "metadata": {},
     "output_type": "execute_result"
    }
   ],
   "source": [
    "nu.visualize(G)"
   ]
  }
 ],
 "metadata": {
  "kernelspec": {
   "display_name": "Python 3.12.1 ('css')",
   "language": "python",
   "name": "python3"
  },
  "language_info": {
   "codemirror_mode": {
    "name": "ipython",
    "version": 3
   },
   "file_extension": ".py",
   "mimetype": "text/x-python",
   "name": "python",
   "nbconvert_exporter": "python",
   "pygments_lexer": "ipython3",
   "version": "3.12.1"
  },
  "vscode": {
   "interpreter": {
    "hash": "2498d96ff24360c0fb8387073d635077a1e11947de042b60174b5fbfd59c0ad5"
   }
  }
 },
 "nbformat": 4,
 "nbformat_minor": 2
}
